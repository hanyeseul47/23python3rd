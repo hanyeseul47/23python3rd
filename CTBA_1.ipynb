{
  "nbformat": 4,
  "nbformat_minor": 0,
  "metadata": {
    "colab": {
      "provenance": [],
      "authorship_tag": "ABX9TyPLi7HGvwxxf9DYqSrUT/XX",
      "include_colab_link": true
    },
    "kernelspec": {
      "name": "python3",
      "display_name": "Python 3"
    },
    "language_info": {
      "name": "python"
    }
  },
  "cells": [
    {
      "cell_type": "markdown",
      "metadata": {
        "id": "view-in-github",
        "colab_type": "text"
      },
      "source": [
        "<a href=\"https://colab.research.google.com/github/hanyeseul47/23python3rd/blob/main/CTBA_1.ipynb\" target=\"_parent\"><img src=\"https://colab.research.google.com/assets/colab-badge.svg\" alt=\"Open In Colab\"/></a>"
      ]
    },
    {
      "cell_type": "markdown",
      "source": [
        "1. 쇼핑몰의 배송료를 계산하는 코드작성\n",
        "- 사용하는 변수 : price, shipping_cost"
      ],
      "metadata": {
        "id": "FOPhueiCceHu"
      }
    },
    {
      "cell_type": "code",
      "source": [
        "print(\"상품의 가격을 입력하시오.:\")\n",
        "price = int(input(\"구입금액 입력: \"))\n",
        "if price > 20000:\n",
        "  shipping_cost = 0\n",
        "  print(f'구입금액이 2만원 이상입니다.')\n",
        "else:\n",
        "  shipping_cost = 3000\n",
        "  print(f'구입금액이 2만원 이하입니다.')\n",
        "print(f'회원님의 배송비는 {shipping_cost}원 입니다.')\n"
      ],
      "metadata": {
        "colab": {
          "base_uri": "https://localhost:8080/"
        },
        "id": "1TyeV8vkc4XO",
        "outputId": "ffb8e128-226e-4139-8fda-a08d860181a2"
      },
      "execution_count": 5,
      "outputs": [
        {
          "output_type": "stream",
          "name": "stdout",
          "text": [
            "상품의 가격을 입력하시오.:\n",
            "구입금액 입력: 20001\n",
            "구입금액이 2만원 이상입니다.\n",
            "회원님의 배송비는 0원 입니다.\n"
          ]
        }
      ]
    },
    {
      "cell_type": "markdown",
      "source": [
        "2. 학생으로부터 성적을 입력받아 합격유뮤를 출력하는 코드\n",
        "- 사용하는 변수: grade"
      ],
      "metadata": {
        "id": "EMj_L21Tgriw"
      }
    },
    {
      "cell_type": "code",
      "source": [
        "print(\"성적을 입력하시오.\")\n",
        "grade = int(input(\"성적입력: \"))\n",
        "if grade >= 70:\n",
        "  print(f'70점 이상이므로 합격입니다.')\n",
        "  print(\"축하합니다. 합격입니다.\")\n",
        "else:\n",
        "  print(f'70점 이하이므로 불합격입니다.')\n",
        "  print(\"아쉽군요. 다시한번 도전하세요.\")"
      ],
      "metadata": {
        "colab": {
          "base_uri": "https://localhost:8080/"
        },
        "id": "9U0H1dqqhEAv",
        "outputId": "1fdf7848-8543-4a7b-93b3-3648dba5e09f"
      },
      "execution_count": 6,
      "outputs": [
        {
          "output_type": "stream",
          "name": "stdout",
          "text": [
            "성적을 입력하시오.\n",
            "성적입력: 71\n",
            "70점 이상이므로 합격입니다.\n",
            "축하합니다. 합격입니다.\n"
          ]
        }
      ]
    },
    {
      "cell_type": "markdown",
      "source": [
        "3. 근무시간에 따라 초과근무와 정상근무를 판별하는 코드\n",
        "- work_hour\n",
        "- 코드 work_hour > 72"
      ],
      "metadata": {
        "id": "-aNXeiAAiECY"
      }
    },
    {
      "cell_type": "code",
      "source": [
        "print(\"근무시간을 입력하시오.\")\n",
        "work_hour = int(input(\"근무시간 입력:\"))\n",
        "if work_hour > 72:\n",
        "  print(\"_\"*9)\n",
        "  print(f'｜72시간 이상 근무했으므로 초과근무입니다. ｜')\n",
        "  print(\"￣\"*9)\n",
        "else:\n",
        "  print(\"_\"*9)\n",
        "  print(f'｜72시간 미만 근무했으므로 정상근무입니다.｜')\n",
        "  print(\"￣\"*9)"
      ],
      "metadata": {
        "colab": {
          "base_uri": "https://localhost:8080/"
        },
        "id": "FOwiqujcii4x",
        "outputId": "7eee84c2-e05a-42ac-ce96-13edfb821111"
      },
      "execution_count": 11,
      "outputs": [
        {
          "output_type": "stream",
          "name": "stdout",
          "text": [
            "근무시간을 입력하시오.\n",
            "근무시간 입력:73\n",
            "_________\n",
            "｜72시간 이상 근무했으므로 초과근무입니다. ｜\n",
            "￣￣￣￣￣￣￣￣￣\n"
          ]
        }
      ]
    },
    {
      "cell_type": "markdown",
      "source": [
        "4. 짝수와 홀수를 판별하는 코드\n",
        "- 사용변수 :_num_\n",
        "- 수식:(_num_ % 2) != 0:"
      ],
      "metadata": {
        "id": "lnwhiKm-mAGX"
      }
    },
    {
      "cell_type": "code",
      "source": [
        "print(\"정수를 입력하시오.\")\n",
        "_num_ = int(input(\"정수 입력: \"))\n",
        "if (_num_ % 2) != 0:\n",
        "  print(f'입력하신 {_num_}은 홀수입니다.')\n",
        "else:\n",
        "  print(f'입력하신{_num_}은 짝수입니다.')"
      ],
      "metadata": {
        "colab": {
          "base_uri": "https://localhost:8080/"
        },
        "id": "dEf7McJzmkwA",
        "outputId": "69530c9d-a678-4ee3-e47c-fe5a52f03813"
      },
      "execution_count": 12,
      "outputs": [
        {
          "output_type": "stream",
          "name": "stdout",
          "text": [
            "정수를 입력하시오.\n",
            "정수 입력: 20\n",
            "입력하신20은 짝수입니다.\n"
          ]
        }
      ]
    },
    {
      "cell_type": "markdown",
      "source": [
        "5.사용자의 이름과 나이를 물어보고, 답변하는 코드\n",
        "- 사용변수: name, age\n",
        "- 출력할 내용:\n",
        " - 성명\n",
        " - 나이 : 20\n",
        " - (1) 20이하: 프로그래밍을 배우는 최적의 나이입니다.\n",
        " - (2) 20이상: 아직도 늦지 않았습니다."
      ],
      "metadata": {
        "id": "g5ZpYrIzneYo"
      }
    },
    {
      "cell_type": "code",
      "source": [
        "print(\"당신의 이름과 나이를 입력하시오.\")\n",
        "name = input(\"이름: \")\n",
        "age = int(input(\"나이: \"))\n",
        "if age >= 20:\n",
        "  print(f'프로그래밍을 배우는 최적의 나이입니다.')\n",
        "else:\n",
        "  print(f'아직도 늦지 않았습니다.')"
      ],
      "metadata": {
        "colab": {
          "base_uri": "https://localhost:8080/"
        },
        "id": "9PLXKSK4oPjQ",
        "outputId": "e6cd34f0-a89e-4a09-d8a1-db802c66082c"
      },
      "execution_count": 14,
      "outputs": [
        {
          "output_type": "stream",
          "name": "stdout",
          "text": [
            "당신의 이름과 나이를 입력하시오.\n",
            "이름: 한예슬\n",
            "나이: 20\n",
            "프로그래밍을 배우는 최적의 나이입니다.\n"
          ]
        }
      ]
    }
  ]
}