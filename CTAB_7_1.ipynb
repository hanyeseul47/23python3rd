{
  "nbformat": 4,
  "nbformat_minor": 0,
  "metadata": {
    "colab": {
      "provenance": [],
      "authorship_tag": "ABX9TyOXGeCvL+tdOMQgzQdJaLGX",
      "include_colab_link": true
    },
    "kernelspec": {
      "name": "python3",
      "display_name": "Python 3"
    },
    "language_info": {
      "name": "python"
    }
  },
  "cells": [
    {
      "cell_type": "markdown",
      "metadata": {
        "id": "view-in-github",
        "colab_type": "text"
      },
      "source": [
        "<a href=\"https://colab.research.google.com/github/hanyeseul47/23python3rd/blob/main/CTAB_7_1.ipynb\" target=\"_parent\"><img src=\"https://colab.research.google.com/assets/colab-badge.svg\" alt=\"Open In Colab\"/></a>"
      ]
    },
    {
      "cell_type": "markdown",
      "source": [
        "1. 일한 시간과 시급을 계산하여 출력하는 코드\n",
        " -  일한시간(hours_worked)\n",
        " - 일한날짜(day_worked)\n",
        " - 시급(pay_rate)\n",
        " - 월급(monthly_pay)\n",
        "\n",
        "\n",
        "\n",
        "\n"
      ],
      "metadata": {
        "id": "6m-6WK1kowXu"
      }
    },
    {
      "cell_type": "code",
      "source": [
        "hours_worked = int(input(\"일한 시간을 입력하시오.: \"))\n",
        "day_worked = int(input(\"일한 날짜를 입력하시오.: \"))\n",
        "pay_rate = int(input(\"시급을 입력하시오.(23년 시급 9620): \"))\n",
        "day_month = hours_worked * day_worked\n",
        "monthly_pay = hours_worked * pay_rate * day_worked\n",
        "print(f'일한 시간은 {hours_worked}시간 이며, 시급은 {pay_rate}원 이고, 월급여는 {monthly_pay}원 입니다.')"
      ],
      "metadata": {
        "colab": {
          "base_uri": "https://localhost:8080/"
        },
        "id": "pu_HPqWHpH7_",
        "outputId": "9a2099d9-8ce1-4e47-98d9-f3a3672d428c"
      },
      "execution_count": 3,
      "outputs": [
        {
          "output_type": "stream",
          "name": "stdout",
          "text": [
            "일한 시간을 입력하시오.: 10\n",
            "일한 날짜를 입력하시오.: 25\n",
            "시급을 입력하시오.(23년 시급 9620): 9620\n",
            "일한 시간은 10시간 이며, 시급은 9620원 이고, 월급여는 2405000원 입니다.\n"
          ]
        }
      ]
    },
    {
      "cell_type": "markdown",
      "source": [
        "2. 환전하는 코드를 작성\n",
        "- 변수 won, usb, exchange\n",
        "- 계산, won * usb"
      ],
      "metadata": {
        "id": "OsaUEeEVurbl"
      }
    },
    {
      "cell_type": "code",
      "source": [
        "usb = int(input(\"환전할 금액을 입력.:\"))\n",
        "won = int(input(\"달러의 환율금액 입력(231031: 1372원)\"))\n",
        "exchange = won * usb\n",
        "print(f'환전하고 싶은 {usb}달러는 환율 {won}으로 계산해서, {exchange}원입니다.')"
      ],
      "metadata": {
        "colab": {
          "base_uri": "https://localhost:8080/"
        },
        "id": "ZhQgvMkivGbI",
        "outputId": "d9485eb5-29e9-4440-a2e2-4470a1369bf6"
      },
      "execution_count": 6,
      "outputs": [
        {
          "output_type": "stream",
          "name": "stdout",
          "text": [
            "환전할 금액을 입력.:500\n",
            "달러의 환율금액 입력(231031: 1372원)1372\n",
            "환전하고 싶은 500달러는 환율 1372으로 계산해서, 686000원입니다.\n"
          ]
        }
      ]
    },
    {
      "cell_type": "markdown",
      "source": [
        "3. 화씨를 섭씨로 섭씨를 화씨로 변경하는 코드\n",
        "- 화씨를 화씨로 ℉ = ℃ * 1.8 + 32\n",
        "- 섭씨를 화씨로 ℃ = (℉ - 32) / 1.8\n",
        "- 변수 : 화씨 fahrenheit, 섭씨 celsius"
      ],
      "metadata": {
        "id": "U-TRR4WfyQGO"
      }
    },
    {
      "cell_type": "code",
      "source": [
        "fahrenheit = int(input(\"화씨를 입력하시오.:\"))\n",
        "celsius = (fahrenheit - 32) / 1.8\n",
        "print(celsius)"
      ],
      "metadata": {
        "colab": {
          "base_uri": "https://localhost:8080/"
        },
        "id": "vErakJhBzjYE",
        "outputId": "54222265-e92b-40e9-a3e8-4afb3a5e50e8"
      },
      "execution_count": 8,
      "outputs": [
        {
          "output_type": "stream",
          "name": "stdout",
          "text": [
            "화씨를 입력하시오.:100\n",
            "37.77777777777778\n"
          ]
        }
      ]
    },
    {
      "cell_type": "code",
      "source": [
        "celsius = float(input(\"섭씨를 입력하시오.:\"))\n",
        "fahrenheit = celsius * 1.8 + 32\n",
        "print(fahrenheit)"
      ],
      "metadata": {
        "colab": {
          "base_uri": "https://localhost:8080/"
        },
        "id": "1dcf6-Hd06xL",
        "outputId": "c88b6822-7f8b-474a-b3cc-6724d14cce68"
      },
      "execution_count": 9,
      "outputs": [
        {
          "output_type": "stream",
          "name": "stdout",
          "text": [
            "섭씨를 입력하시오.:37.77777777777778\n",
            "100.0\n"
          ]
        }
      ]
    }
  ]
}