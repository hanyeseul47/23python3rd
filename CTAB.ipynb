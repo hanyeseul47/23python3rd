{
  "nbformat": 4,
  "nbformat_minor": 0,
  "metadata": {
    "colab": {
      "provenance": [],
      "authorship_tag": "ABX9TyOjmUZewx3rw6bL2H5u0gDb",
      "include_colab_link": true
    },
    "kernelspec": {
      "name": "python3",
      "display_name": "Python 3"
    },
    "language_info": {
      "name": "python"
    }
  },
  "cells": [
    {
      "cell_type": "markdown",
      "metadata": {
        "id": "view-in-github",
        "colab_type": "text"
      },
      "source": [
        "<a href=\"https://colab.research.google.com/github/hanyeseul47/23python3rd/blob/main/CTAB.ipynb\" target=\"_parent\"><img src=\"https://colab.research.google.com/assets/colab-badge.svg\" alt=\"Open In Colab\"/></a>"
      ]
    },
    {
      "cell_type": "markdown",
      "source": [
        "3. 사용자로부터 2개의 정수를 받아서 합계를 출력하시오.\n",
        "- 정수 X\n",
        "- 정수 Y"
      ],
      "metadata": {
        "id": "pcoT5GfeXIu0"
      }
    },
    {
      "cell_type": "code",
      "execution_count": 1,
      "metadata": {
        "colab": {
          "base_uri": "https://localhost:8080/"
        },
        "id": "fpv30lR3Wzf4",
        "outputId": "69b96581-1877-47f3-f341-d0a7449daef1"
      },
      "outputs": [
        {
          "output_type": "stream",
          "name": "stdout",
          "text": [
            "정수 2개를 입력하시오.:\n",
            "x의 값을 입력하시오.:4\n",
            "y의 값을 입력하시오.:7\n",
            "11\n",
            "4 + 7의 값은 11이다.\n"
          ]
        }
      ],
      "source": [
        "print(\"정수 2개를 입력하시오.:\")\n",
        "x = int(input('x의 값을 입력하시오.:'))\n",
        "y = int(input('y의 값을 입력하시오.:'))\n",
        "sum = x + y\n",
        "print(sum)\n",
        "print(f'{x} + {y}의 값은 {sum}이다.')"
      ]
    },
    {
      "cell_type": "markdown",
      "source": [
        "4. 부가세를 계산하시오.\n",
        "- 상품의 가격 (price)\n",
        "- 부기세 (vat)\n"
      ],
      "metadata": {
        "id": "RwNsdVLaY-Sr"
      }
    },
    {
      "cell_type": "code",
      "source": [
        "print(\"상품의 가격을 입력하시오.:\")\n",
        "price = int(input(\"상품의 가격.:\"))\n",
        "vat = price * 0.1\n",
        "print(vat)\n",
        "print(f'상품의 가격은 {price}이며, 부가세는 {vat}이다.')"
      ],
      "metadata": {
        "colab": {
          "base_uri": "https://localhost:8080/"
        },
        "id": "h6TAWI1PZZdF",
        "outputId": "4d3c238d-3830-4093-976d-6554c37cc6ca"
      },
      "execution_count": 2,
      "outputs": [
        {
          "output_type": "stream",
          "name": "stdout",
          "text": [
            "상품의 가격을 입력하시오.:\n",
            "상품의 가격.:3000\n",
            "300.0\n",
            "상품의 가격은 3000이며, 부가세는 300.0이다.\n"
          ]
        }
      ]
    }
  ]
}