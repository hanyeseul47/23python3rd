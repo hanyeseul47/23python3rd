{
  "nbformat": 4,
  "nbformat_minor": 0,
  "metadata": {
    "colab": {
      "provenance": [],
      "authorship_tag": "ABX9TyOoTgj4bRAjUxEa7vywbPQP",
      "include_colab_link": true
    },
    "kernelspec": {
      "name": "python3",
      "display_name": "Python 3"
    },
    "language_info": {
      "name": "python"
    }
  },
  "cells": [
    {
      "cell_type": "markdown",
      "metadata": {
        "id": "view-in-github",
        "colab_type": "text"
      },
      "source": [
        "<a href=\"https://colab.research.google.com/github/hanyeseul47/23python3rd/blob/main/calendar.ipynb\" target=\"_parent\"><img src=\"https://colab.research.google.com/assets/colab-badge.svg\" alt=\"Open In Colab\"/></a>"
      ]
    },
    {
      "cell_type": "code",
      "execution_count": 3,
      "metadata": {
        "colab": {
          "base_uri": "https://localhost:8080/"
        },
        "id": "s2NPv5chY9Fp",
        "outputId": "fe77516f-0f1c-4615-8ef1-d521453fe83f"
      },
      "outputs": [
        {
          "output_type": "stream",
          "name": "stdout",
          "text": [
            "    October 2023\n",
            "Mo Tu We Th Fr Sa Su\n",
            "                   1\n",
            " 2  3  4  5  6  7  8\n",
            " 9 10 11 12 13 14 15\n",
            "16 17 18 19 20 21 22\n",
            "23 24 25 26 27 28 29\n",
            "30 31\n",
            "\n"
          ]
        }
      ],
      "source": [
        "import calendar\n",
        "yy = 2023\n",
        "mm = 10\n",
        "print(calendar.month(yy,mm))"
      ]
    },
    {
      "cell_type": "markdown",
      "source": [
        "2023년 10월 19일 to do list\n",
        "- 09:10~11:00 컴퓨팅적 사고와 기초코딩\n",
        "- 11:10~12:00 아동건강교육\n",
        "- 12:00~01:00 점심식사\n",
        "- 01:00~18:00 시험공부"
      ],
      "metadata": {
        "id": "K4p2Iow8ZYRQ"
      }
    },
    {
      "cell_type": "code",
      "source": [
        "print (\"hello world\")\n",
        "print (\"09:10~11:00 컴퓨팅적 사고와 기초코딩\")\n",
        "print (\"11:10~12:00 아동건강교육\")\n",
        "print (\"12:00~01:00 점심식사\")\n",
        "print (\"01:00~18:00 시험공부\")"
      ],
      "metadata": {
        "colab": {
          "base_uri": "https://localhost:8080/"
        },
        "id": "ZMUFAiJ5cfmn",
        "outputId": "d99b1791-a7ec-43a7-ce74-98a1325ab085"
      },
      "execution_count": 5,
      "outputs": [
        {
          "output_type": "stream",
          "name": "stdout",
          "text": [
            "hello world\n",
            "09:10~11:00 컴퓨팅적 사고와 기초코딩\n",
            "11:10~12:00 아동건강교육\n",
            "12:00~01:00 점심식사\n",
            "01:00~18:00 시험공부\n"
          ]
        }
      ]
    }
  ]
}