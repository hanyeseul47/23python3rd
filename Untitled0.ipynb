{
  "nbformat": 4,
  "nbformat_minor": 0,
  "metadata": {
    "colab": {
      "provenance": [],
      "authorship_tag": "ABX9TyPs7I6fCG5cRsL3eQt1hiek",
      "include_colab_link": true
    },
    "kernelspec": {
      "name": "python3",
      "display_name": "Python 3"
    },
    "language_info": {
      "name": "python"
    }
  },
  "cells": [
    {
      "cell_type": "markdown",
      "metadata": {
        "id": "view-in-github",
        "colab_type": "text"
      },
      "source": [
        "<a href=\"https://colab.research.google.com/github/hanyeseul47/23python3rd/blob/main/Untitled0.ipynb\" target=\"_parent\"><img src=\"https://colab.research.google.com/assets/colab-badge.svg\" alt=\"Open In Colab\"/></a>"
      ]
    },
    {
      "cell_type": "markdown",
      "source": [
        "이 코드는 사용자로부터 n1, n2, n3의 값을 입력받아서 각각을 더한 후 총합과 평균을 계산하여 출력하는 간단한 코드입니다. input() 함수를 사용하여 사용자로부터 값을 입력받고, int() 함수를 사용하여 입력받은 값을 정수로 변환합니다.\n",
        "\n",
        "먼저, n1, n2, n3 변수에 각각의 값을 입력받습니다. 그리고 total 변수에 n1, n2, n3의 값을 더하여 총합을 계산합니다. 계산된 총합은 print() 함수를 사용하여 출력됩니다.\n",
        "\n",
        "다음으로, total을 3으로 나누어서 평균을 계산하고, average 변수에 저장합니다. 계산된 평균은 다시 print() 함수를 사용하여 출력됩니다."
      ],
      "metadata": {
        "id": "YV_pJsXG5uN4"
      }
    },
    {
      "cell_type": "code",
      "execution_count": null,
      "metadata": {
        "id": "6g86WHRH5bL8"
      },
      "outputs": [],
      "source": [
        "n1 = int(input(\"n1의 값을 입력하시오.:\"))  # 사용자로부터 n1의 값을 입력받습니다.\n",
        "n2 = int(input(\"n2의 값을 입력하시오.:\"))  # 사용자로부터 n2의 값을 입력받습니다.\n",
        "n3 = int(input(\"n3의 값을 입력하시오.:\"))  # 사용자로부터 n3의 값을 입력받습니다.\n",
        "\n",
        "total = n1 + n2 + n3  # n1, n2, n3의 값을 더하여 총합을 계산합니다.\n",
        "print('합계는 :',total)  # 총합을 출력합니다.\n",
        "\n",
        "average = total / 3  # 총합을 3으로 나누어 평균을 계산합니다.\n",
        "print('평균은 :',average)  # 평균을 출력합니다."
      ]
    },
    {
      "cell_type": "markdown",
      "source": [
        "이 코드는 사용자로부터 n1, n2, n3의 값을 입력받아서 각각을 더한 후 총합과 평균을 계산하여 출력하는 간단한 코드입니다.\n",
        "\n",
        "먼저, input() 함수를 사용하여 사용자로부터 n1, n2, n3의 값을 입력받습니다. 입력받은 값은 int() 함수를 사용하여 정수로 변환한 후 각각 n1, n2, n3 변수에 저장됩니다.\n",
        "\n",
        "다음으로, total 변수에 n1, n2, n3의 값을 더하여 총합을 계산합니다. total 변수에 저장된 총합은 print() 함수를 사용하여 출력됩니다.\n",
        "\n",
        "마지막으로, total을 3으로 나누어서 평균을 계산하고, average 변수에 저장합니다. average 변수에 저장된 평균은 다시 print() 함수를 사용하여 출력됩니다."
      ],
      "metadata": {
        "id": "q3hUQ-i06NN-"
      }
    },
    {
      "cell_type": "code",
      "source": [
        "n1 = int(input(\"n1의 값을 입력하시오.:\"))  # 사용자로부터 n1의 값을 입력받습니다.\n",
        "n2 = int(input(\"n2의 값을 입력하시오.:\"))  # 사용자로부터 n2의 값을 입력받습니다.\n",
        "n3 = int(input(\"n3의 값을 입력하시오.:\"))  # 사용자로부터 n3의 값을 입력받습니다.\n",
        "\n",
        "total = n1 + n2 + n3  # n1, n2, n3의 값을 더하여 총합을 계산합니다.\n",
        "print('합계는 :', total)  # 총합을 출력합니다.\n",
        "\n",
        "average = total / 3  # 총합을 3으로 나누어 평균을 계산합니다.\n",
        "print('평균은 :', average)  # 평균을 출력합니다."
      ],
      "metadata": {
        "id": "oPSDXL5q5v03"
      },
      "execution_count": null,
      "outputs": []
    },
    {
      "cell_type": "code",
      "source": [
        "total = 0  # 변수 total을 0으로 초기화합니다.\n",
        "counter = 1  # 변수 counter를 1로 초기화합니다.\n",
        "\n",
        "while counter <= 10:  # counter가 10보다 작거나 같은 동안 반복합니다.\n",
        "    grade = int(input(\"성적을 입력하시오.:\"))  # 사용자로부터 성적을 입력받아 정수로 변환한 후 grade 변수에 저장합니다.\n",
        "    total = grade + total  # 입력받은 성적을 total에 더합니다.\n",
        "    counter = counter + 1  # counter 값을 1 증가시킵니다.\n",
        "\n",
        "average = total / 10  # total을 10으로 나누어 평균을 계산합니다.\n",
        "print(average)  # 평균값을 출력합니다."
      ],
      "metadata": {
        "id": "ONLDXiyL6UFf"
      },
      "execution_count": null,
      "outputs": []
    },
    {
      "cell_type": "markdown",
      "source": [
        "주어진 코드는 5명의 성적을 입력받아 평균을 계산하는 프로그램입니다. 반복문과 조건문을 사용하여 구현되었습니다.\n",
        "\n",
        "먼저, total 변수를 0으로 초기화하고, counter 변수를 1로 초기화합니다. 이후 while 반복문을 사용하여 counter가 10보다 작거나 같은 동안 반복합니다.\n",
        "\n",
        "안쪽의 반복문에서는 input() 함수를 사용하여 사용자로부터 성적을 입력받습니다. 입력받은 성적은 int() 함수를 사용하여 정수로 변환한 후 grade 변수에 저장합니다. 그리고 입력받은 성적을 total 변수에 더합니다.\n",
        "\n",
        "반복문이 한 번 실행될 때마다 counter 변수를 1씩 증가시킵니다.\n",
        "\n",
        "반복문이 종료되면 total 변수를 10으로 나누어 평균을 계산하고, average 변수에 저장합니다. 마지막으로 print() 함수를 사용하여 평균값을 출력합니다"
      ],
      "metadata": {
        "id": "taEDn8Nx692_"
      }
    },
    {
      "cell_type": "code",
      "source": [
        "import calendar\n",
        "yy = 2023\n",
        "mm = 10\n",
        "print(calendar.month(yy,mm))"
      ],
      "metadata": {
        "id": "JdBXa_Dd7QB3"
      },
      "execution_count": null,
      "outputs": []
    },
    {
      "cell_type": "markdown",
      "source": [
        "주어진 코드는 calendar 모듈을 사용하여 2023년 10월의 달력을 출력하는 코드입니다.\n",
        "\n",
        "import calendar를 통해 calendar 모듈을 불러옵니다.\n",
        "\n",
        "yy 변수에는 연도를, mm 변수에는 월을 지정합니다. 예시로 주어진 코드에서는 yy 변수에 2023을, mm 변수에 10을 할당했습니다.\n",
        "\n",
        "calendar.month(yy, mm)은 지정한 연도와 월에 해당하는 달력을 반환하는 함수입니다. print(calendar.month(yy, mm))을 호출하여 2023년 10월의 달력을 출력합니다."
      ],
      "metadata": {
        "id": "At41EeYZ7tJI"
      }
    },
    {
      "cell_type": "code",
      "source": [
        "import calendar\n",
        "\n",
        "# 연도와 월을 지정합니다.\n",
        "yy = 2023\n",
        "mm = 10\n",
        "\n",
        "# 지정한 연도와 월에 해당하는 달력을 출력합니다.\n",
        "print(calendar.month(yy, mm))\n",
        "\n",
        "# 주어진 일정을 출력합니다.\n",
        "print(\"2023년 10월 19일 to do list\")\n",
        "print(\"09:10~11:00 컴퓨팅적 사고와 기초코딩\")\n",
        "print(\"11:10~12:00 아동건강교육\")\n",
        "print(\"12:00~01:00 점심식사\")\n",
        "print(\"01:00~18:00 시험공부\")\n",
        "\n",
        "# 주어진 일정을 출력합니다.\n",
        "print(\"hello world\")\n",
        "print(\"09:10~11:00 컴퓨팅적 사고와 기초코딩\")\n",
        "print(\"11:10~12:00 아동건강교육\")\n",
        "print(\"12:00~01:00 점심식사\")\n",
        "print(\"01:00~18:00 시험공부\")"
      ],
      "metadata": {
        "id": "EoXT415W7yBX"
      },
      "execution_count": null,
      "outputs": []
    },
    {
      "cell_type": "markdown",
      "source": [
        "위 코드를 실행하면 먼저 calendar.month(yy, mm)을 호출하여 2023년 10월의 달력이 출력됩니다. 그 다음으로 주어진 일정이 순서대로 출력됩니다. 마지막으로 \"hello world\"와 주어진 일정이 다시 출력됩니다."
      ],
      "metadata": {
        "id": "JQz2Jtpf8StJ"
      }
    },
    {
      "cell_type": "code",
      "source": [
        "price = int(input(\"구입금액 입력: \"))  # 사용자로부터 구입금액을 정수형으로 입력받습니다.\n",
        "\n",
        "# 배송료 처리 조건문입니다.\n",
        "if price >= 100000:\n",
        "    shipping_cost = 0  # 10만원 이상인 경우 배송료는 0원입니다.\n",
        "elif price >= 20000:\n",
        "    shipping_cost = 3000  # 2만원 이상인 경우 배송료는 3000원입니다.\n",
        "else:\n",
        "    shipping_cost = 5000  # 2만원 미만인 경우 배송료는 5000원입니다.\n",
        "\n",
        "print(f'배송료는 {shipping_cost}원 입니다.')  # 최종 배송료를 출력합니다."
      ],
      "metadata": {
        "id": "M1KYLdPv8fH_"
      },
      "execution_count": null,
      "outputs": []
    },
    {
      "cell_type": "markdown",
      "source": [
        "위 코드는 사용자로부터 구입금액을 입력받아 배송료를 계산하는 코드입니다. price 변수에 사용자가 입력한 정수형 구입금액을 저장합니다. 이후 조건문을 사용하여 구입금액에 따라 배송료를 처리합니다. 구입금액이 10만원 이상인 경우 배송료는 0원, 2만원 이상인 경우 3000원, 2만원 미만인 경우 5000원으로 설정됩니다. 마지막으로, f-string을 사용하여 최종 배송료를 출력합니다."
      ],
      "metadata": {
        "id": "ck16qEKr9DUS"
      }
    },
    {
      "cell_type": "code",
      "source": [
        "count = 0\n",
        "while count < 5:\n",
        "    print(\"환영합니다.\")\n",
        "    count += 1"
      ],
      "metadata": {
        "id": "ro-shqw2-KfI"
      },
      "execution_count": null,
      "outputs": []
    },
    {
      "cell_type": "markdown",
      "source": [
        "위 코드는 \"환영합니다.\"를 5번 반복하여 출력하는 코드입니다. count 변수를 0으로 초기화한 후, while 반복문을 사용하여 count가 5보다 작을 때까지 \"환영합니다.\"를 출력하고 count를 1씩 증가시킵니다."
      ],
      "metadata": {
        "id": "JoC4i7-T_RvQ"
      }
    },
    {
      "cell_type": "code",
      "source": [
        "x = 0\n",
        "while x < 10:\n",
        "    print(x, end=' ')\n",
        "    x += 1"
      ],
      "metadata": {
        "id": "xcddbu3o_WMg"
      },
      "execution_count": null,
      "outputs": []
    },
    {
      "cell_type": "markdown",
      "source": [
        "위 코드는 0부터 9까지의 숫자를 출력하는 코드입니다. x 변수를 0으로 초기화한 후, while 반복문을 사용하여 x가 10보다 작을 때까지 x를 출력하고 x를 1씩 증가시킵니다. 출력 시 end 매개변수를 사용하여 숫자 사이에 공백을 추가합니다."
      ],
      "metadata": {
        "id": "lNdn7RIg_a1w"
      }
    },
    {
      "cell_type": "code",
      "source": [
        "x = 1\n",
        "total = 0\n",
        "while x <= 10:\n",
        "    total += x\n",
        "    x += 1\n",
        "print(total)"
      ],
      "metadata": {
        "id": "sVdKa-_P_fGw"
      },
      "execution_count": null,
      "outputs": []
    },
    {
      "cell_type": "markdown",
      "source": [
        "위 코드는 1부터 10까지의 숫자를 합산하여 출력하는 코드입니다. x 변수를 1로 초기화하고, total 변수를 0으로 초기화합니다. while 반복문을 사용하여 x가 10보다 작거나 같을 때까지 total에 x를 더하고, x를 1씩 증가시킵니다. 최종적으로 total을 출력합니다."
      ],
      "metadata": {
        "id": "48wCy286_izp"
      }
    },
    {
      "cell_type": "code",
      "source": [
        "for num in range(1, 21):\n",
        "    if num % 3 == 0:\n",
        "        print(\"박수\", end=' ')\n",
        "    else:\n",
        "        print(num, end=' ')"
      ],
      "metadata": {
        "id": "xYO0BsSs_mX4"
      },
      "execution_count": null,
      "outputs": []
    },
    {
      "cell_type": "markdown",
      "source": [
        "위 코드는 1부터 20까지의 숫자를 출력하는 코드입니다. for 반복문을 사용하여 num 변수를 1부터 20까지 반복합니다. if 조건문을 사용하여 num이 3의 배수인 경우 \"박수\"를 출력하고, 아닌 경우에는 num을 출력합니다. 출력 시 end 매개변수를 사용하여 숫자와 \"박수\" 사이에 공백을 추가합니다."
      ],
      "metadata": {
        "id": "qhaG5IAz_pqI"
      }
    },
    {
      "cell_type": "code",
      "source": [
        "num = int(input(\"팩토리얼을 계산할 숫자를 입력하시오.: \"))\n",
        "factorial = 1\n",
        "\n",
        "while num >= 1:\n",
        "    factorial *= num\n",
        "    num -= 1\n",
        "\n",
        "print(f'계산된 팩토리얼 값은 {factorial} 입니다.')"
      ],
      "metadata": {
        "id": "W0yCTC2t_uII"
      },
      "execution_count": null,
      "outputs": []
    },
    {
      "cell_type": "markdown",
      "source": [
        "위 코드는 입력된 숫자의 팩토리얼 값을 계산하여 출력하는 코드입니다. num 변수에 사용자로부터 입력받은 숫자를 저장합니다. factorial 변수를 1로 초기화합니다. while 반복문을 사용하여 num이 1보다 크거나 같을 때까지 factorial에 num을 곱하고, num을 1씩 감소시킵니다. 최종적으로 계산된 팩토리얼 값을 출력합니다."
      ],
      "metadata": {
        "id": "KTJZzy_R_xI4"
      }
    },
    {
      "cell_type": "code",
      "source": [
        "dan = int(input(\"구구단에서 몇단을 출력할까요: \"))\n",
        "for i in range(1, 10):\n",
        "    print(dan, \"x\", i, \"=\", dan * i)"
      ],
      "metadata": {
        "id": "JvnOpLsp_1Fw"
      },
      "execution_count": null,
      "outputs": []
    },
    {
      "cell_type": "markdown",
      "source": [
        "위 코드는 사용자로부터 입력받은 숫자에 해당하는 구구단을 출력하는 코드입니다. dan 변수에 사용자로부터 입력받은 숫자를 저장합니다. for 반복문을 사용하여 1부터 9까지 반복하면서 구구단을 출력합니다. 출력 형식은 \"{dan} x {i} = {dan * i}\"입니다."
      ],
      "metadata": {
        "id": "CFEwdbEK_4eQ"
      }
    },
    {
      "cell_type": "code",
      "source": [
        "print(\"상품의 가격을 입력하시오.:\")  # 사용자에게 상품의 가격을 입력하라는 안내 메시지를 출력합니다.\n",
        "price = int(input(\"구입금액 입력: \"))  # 사용자로부터 구입금액을 입력받고, 정수형으로 변환하여 변수 price에 저장합니다.\n",
        "\n",
        "if price > 20000:  # 만약 구입금액이 2만원을 초과하면 아래의 코드를 실행합니다.\n",
        "    shipping_cost = 0  # 배송비(shipping_cost)를 0원으로 설정합니다.\n",
        "    print(f'구입금액이 2만원 이상입니다.')  # 사용자에게 구입금액이 2만원 이상임을 안내하는 메시지를 출력합니다.\n",
        "else:  # 위의 조건을 만족하지 않는 경우, 즉 구입금액이 2만원 이하인 경우 아래의 코드를 실행합니다.\n",
        "    shipping_cost = 3000  # 배송비(shipping_cost)를 3000원으로 설정합니다.\n",
        "    print(f'구입금액이 2만원 이하입니다.')  # 사용자에게 구입금액이 2만원 이하임을 안내하는 메시지를 출력합니다.\n",
        "\n",
        "print(f'회원님의 배송비는 {shipping_cost}원 입니다.')  # 사용자의 배송비를 출력합니다."
      ],
      "metadata": {
        "id": "ZaTvj2yt_7vh"
      },
      "execution_count": null,
      "outputs": []
    },
    {
      "cell_type": "markdown",
      "source": [
        "위 코드는 사용자로부터 구입금액을 입력받아 해당 구입금액에 따른 배송비를 계산하고 출력하는 코드입니다. 사용자는 \"상품의 가격을 입력하시오\"라는 메시지에 따라 상품의 가격을 입력합니다. 입력받은 구입금액은 price 변수에 정수형으로 저장됩니다.\n",
        "\n",
        "if 조건문을 사용하여 구입금액이 2만원을 초과하는지를 확인합니다. 만약 조건이 참이라면(즉, 구입금액이 2만원 이상이라면), 배송비인 shipping_cost를 0원으로 설정하고 \"구입금액이 2만원 이상입니다.\"라는 메시지를 출력합니다.\n",
        "\n",
        "조건이 거짓인 경우(구입금액이 2만원 이하인 경우), else 블록의 코드가 실행됩니다. shipping_cost를 3000원으로 설정하고 \"구입금액이 2만원 이하입니다.\"라는 메시지를 출력합니다.\n",
        "\n",
        "마지막으로, print() 함수를 사용하여 \"회원님의 배송비는 {shipping_cost}원 입니다.\"라는 메시지를 출력합니다. 이때, {shipping_cost}는 실제 배송비 값으로 대체됩니다.\n",
        "\n",
        "위 코드를 실행하면 사용자로부터 구입금액을 입력받고, 입력된 구입금액에 따라 배송비가 결정되어 출력됩니다."
      ],
      "metadata": {
        "id": "vIyd47U8AAJ4"
      }
    },
    {
      "cell_type": "code",
      "source": [
        "print(\"성적을 입력하시오.\")  # 사용자에게 성적을 입력하라는 안내 메시지를 출력합니다.\n",
        "grade = int(input(\"성적입력: \"))  # 사용자로부터 성적을 입력받고, 정수형으로 변환하여 변수 grade에 저장합니다.\n",
        "\n",
        "if grade >= 70:  # 만약 성적이 70점 이상이면 아래의 코드를 실행합니다.\n",
        "    print(f'70점 이상이므로 합격입니다.')  # 사용자에게 성적이 70점 이상이므로 합격임을 안내하는 메시지를 출력합니다.\n",
        "    print(\"축하합니다. 합격입니다.\")  # 사용자에게 합격을 축하하는 메시지를 출력합니다.\n",
        "else:  # 위의 조건을 만족하지 않는 경우, 즉 성적이 70점 미만인 경우 아래의 코드를 실행합니다.\n",
        "    print(f'70점 이하이므로 불합격입니다.')  # 사용자에게 성적이 70점 이하이므로 불합격임을 안내하는 메시지를 출력합니다.\n",
        "    print(\"아쉽군요. 다시 한번 도전하세요.\")  # 사용자에게 아쉬움을 표현하고 다시 도전할 것을 장려하는 메시지를 출력합니다."
      ],
      "metadata": {
        "id": "37n8s9WnAHPs"
      },
      "execution_count": null,
      "outputs": []
    },
    {
      "cell_type": "markdown",
      "source": [
        "위 코드는 사용자로부터 성적을 입력받아 해당 성적에 따라 합격 여부를 판단하고 출력하는 코드입니다. 사용자는 \"성적을 입력하시오.\"라는 메시지에 따라 성적을 입력합니다. 입력받은 성적은 grade 변수에 정수형으로 저장됩니다.\n",
        "\n",
        "if 조건문을 사용하여 성적이 70점 이상인지를 확인합니다. 만약 조건이 참이라면(즉, 성적이 70점 이상이라면), \"70점 이상이므로 합격입니다.\"라는 메시지와 \"축하합니다. 합격입니다.\"라는 메시지를 출력합니다.\n",
        "\n",
        "조건이 거짓인 경우(성적이 70점 미만인 경우), else 블록의 코드가 실행됩니다. \"70점 이하이므로 불합격입니다.\"라는 메시지와 \"아쉽군요. 다시 한번 도전하세요.\"라는 메시지를 출력합니다."
      ],
      "metadata": {
        "id": "oAP0inGQAf6B"
      }
    },
    {
      "cell_type": "code",
      "source": [
        "위 코드는 사용자로부터 성적을 입력받아 해당 성적에 따라 합격 여부를 판단하고 출력하는 코드입니다. 사용자는 \"성적을 입력하시오.\"라는 메시지에 따라 성적을 입력합니다. 입력받은 성적은 grade 변수에 정수형으로 저장됩니다.\n",
        "\n",
        "if 조건문을 사용하여 성적이 70점 이상인지를 확인합니다. 만약 조건이 참이라면(즉, 성적이 70점 이상이라면), \"70점 이상이므로 합격입니다.\"라는 메시지와 \"축하합니다. 합격입니다.\"라는 메시지를 출력합니다.\n",
        "\n",
        "조건이 거짓인 경우(성적이 70점 미만인 경우), else 블록의 코드가 실행됩니다. \"70점 이하이므로 불합격입니다.\"라는 메시지와 \"아쉽군요. 다시 한번 도전하세요.\"라는 메시지를 출력합니다."
      ],
      "metadata": {
        "id": "ObdgWqdYAnxK"
      },
      "execution_count": null,
      "outputs": []
    }
  ]
}