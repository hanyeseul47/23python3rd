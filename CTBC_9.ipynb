{
  "nbformat": 4,
  "nbformat_minor": 0,
  "metadata": {
    "colab": {
      "provenance": [],
      "authorship_tag": "ABX9TyNv0d21c/AqXuyMAFb7wrhx",
      "include_colab_link": true
    },
    "kernelspec": {
      "name": "python3",
      "display_name": "Python 3"
    },
    "language_info": {
      "name": "python"
    }
  },
  "cells": [
    {
      "cell_type": "markdown",
      "metadata": {
        "id": "view-in-github",
        "colab_type": "text"
      },
      "source": [
        "<a href=\"https://colab.research.google.com/github/hanyeseul47/23python3rd/blob/main/CTBC_9.ipynb\" target=\"_parent\"><img src=\"https://colab.research.google.com/assets/colab-badge.svg\" alt=\"Open In Colab\"/></a>"
      ]
    },
    {
      "cell_type": "markdown",
      "source": [
        "1. 두가지  이상의 선택, 다방향 선택구조 코딩\n",
        "- 배송료 처리 3가지로 코딩\n",
        "- 변수 : price\n",
        "- 조건 : 10만원 이상은 배송비0,2만원 이상은 3천원, 2만원 이하는 5천원"
      ],
      "metadata": {
        "id": "BMn1k9TurRff"
      }
    },
    {
      "cell_type": "code",
      "source": [
        "price = int(input(\"구입금액 입력: \"))                                      # 변수 price 사용자가 정수형 급액입력\n",
        "if price >= 100000:                                                        # price의 값이 10만원보다 크거나 같으면\n",
        "   shipping_cost = 0                                                       # 선택1. 배송료(shipping_cost)는 0원\n",
        "else:                                                                      # 그게 아니면\n",
        " if price >= 20000:                                                        # 선택2. price값이 2만원보다 크거나 같으면\n",
        "   shipping_cost = 3000                                                    # 배송료(shipping_cost)는 3000원\n",
        " else:                                                                     # 그것도 아니면\n",
        "  shipping_cost = 5000                                                     # 선택3. 배송료(shipping_cost)는 5000원\n",
        "print(f'배송료는 {shipping_cost}원 입니다.')                               # F-String문자 Format으로 최종 배송료출력"
      ],
      "metadata": {
        "colab": {
          "base_uri": "https://localhost:8080/"
        },
        "id": "CXp-AL0jsxIp",
        "outputId": "f739aa98-d055-4416-e758-17df55e70e30"
      },
      "execution_count": null,
      "outputs": [
        {
          "output_type": "stream",
          "name": "stdout",
          "text": [
            "구입금액 입력: 25000\n",
            "배송료는 3000원 입니다.\n"
          ]
        }
      ]
    },
    {
      "cell_type": "markdown",
      "source": [
        "2. 반복구조를 이용한 \"환영합니다.\"를 5번 출력하는 코드작성\n",
        "- 변수 : welcome\n",
        "- 출력내용 : 환엽합니다.를 세로로 5본,10번,30번"
      ],
      "metadata": {
        "id": "sxmDt6LoymDW"
      }
    },
    {
      "cell_type": "code",
      "source": [
        "print(\"환영합니다.\")\n",
        "print(\"환영합니다.\")\n",
        "print(\"환영합니다.\")\n",
        "print(\"환영합니다.\")\n",
        "print(\"환영합니다.\")"
      ],
      "metadata": {
        "colab": {
          "base_uri": "https://localhost:8080/"
        },
        "id": "QlUvcFmPzFXO",
        "outputId": "601fe01c-5f76-4359-ecda-e3eb64d9ddc2"
      },
      "execution_count": null,
      "outputs": [
        {
          "output_type": "stream",
          "name": "stdout",
          "text": [
            "환영합니다.\n",
            "환영합니다.\n",
            "환영합니다.\n",
            "환영합니다.\n",
            "환영합니다.\n"
          ]
        }
      ]
    },
    {
      "cell_type": "code",
      "source": [
        "print(\"환영합니다.\\n\"* 5)"
      ],
      "metadata": {
        "colab": {
          "base_uri": "https://localhost:8080/"
        },
        "id": "KgmKzn95zVC_",
        "outputId": "b266a1e2-9b46-4486-df2a-1e4ff6787ee4"
      },
      "execution_count": null,
      "outputs": [
        {
          "output_type": "stream",
          "name": "stdout",
          "text": [
            "환영합니다.\n",
            "환영합니다.\n",
            "환영합니다.\n",
            "환영합니다.\n",
            "환영합니다.\n",
            "\n"
          ]
        }
      ]
    },
    {
      "cell_type": "code",
      "source": [
        "count = 0\n",
        "while count <= 5:\n",
        "   print(\"(\",count, \")\", \"환영합니다.\")\n",
        "   count = count + 1"
      ],
      "metadata": {
        "colab": {
          "base_uri": "https://localhost:8080/"
        },
        "id": "Y_j42kNUzohx",
        "outputId": "8ac52824-231d-40c3-d57f-a383df358970"
      },
      "execution_count": null,
      "outputs": [
        {
          "output_type": "stream",
          "name": "stdout",
          "text": [
            "( 0 ) 환영합니다.\n",
            "( 1 ) 환영합니다.\n",
            "( 2 ) 환영합니다.\n",
            "( 3 ) 환영합니다.\n",
            "( 4 ) 환영합니다.\n",
            "( 5 ) 환영합니다.\n"
          ]
        }
      ]
    },
    {
      "cell_type": "markdown",
      "source": [
        "3. 0부터 9까지 출력하는 코드 작성\n",
        "- 변수:X"
      ],
      "metadata": {
        "id": "9Y-Gy_BR1gzO"
      }
    },
    {
      "cell_type": "code",
      "source": [
        "x = 0\n",
        "while x < 10:\n",
        "  #print(x)\n",
        "  print(x, end=' ')\n",
        "  x = x + 1"
      ],
      "metadata": {
        "colab": {
          "base_uri": "https://localhost:8080/"
        },
        "id": "K255gxxK1tzc",
        "outputId": "eb896245-0cc1-4537-c81a-54c5fa45ac67"
      },
      "execution_count": null,
      "outputs": [
        {
          "output_type": "stream",
          "name": "stdout",
          "text": [
            "0 1 2 3 4 5 6 7 8 9 "
          ]
        }
      ]
    },
    {
      "cell_type": "markdown",
      "source": [
        "4. 1부터 10까지 합산하는 코드작성"
      ],
      "metadata": {
        "id": "Kai1gNqR3C1f"
      }
    },
    {
      "cell_type": "code",
      "source": [
        "x = 1\n",
        "total = 0\n",
        "while x <= 10:\n",
        "   total += x\n",
        "   #total = total + 1\n",
        "   #x = x + 1\n",
        "   x += 1\n",
        "   print(total)"
      ],
      "metadata": {
        "colab": {
          "base_uri": "https://localhost:8080/"
        },
        "id": "HrmNXMw73J5c",
        "outputId": "d4b05e03-78a1-4940-95ee-4c5928762739"
      },
      "execution_count": null,
      "outputs": [
        {
          "output_type": "stream",
          "name": "stdout",
          "text": [
            "1\n",
            "3\n",
            "6\n",
            "10\n",
            "15\n",
            "21\n",
            "28\n",
            "36\n",
            "45\n",
            "55\n"
          ]
        }
      ]
    },
    {
      "cell_type": "markdown",
      "source": [
        "5. 3-6-9 게임(3의 배수 판단): 3의 배수를 3으로 나누면 나머지가 0이 되므로(i mod 3)의 값이 0이면 박수를 출력,아니면 숫자 출력하는 코드"
      ],
      "metadata": {
        "id": "IkZiFikB4LsU"
      }
    },
    {
      "cell_type": "code",
      "source": [
        "for num in range(1, 21):\n",
        "  if num % 3 == 0:\n",
        "    print(\"박수\", end=' ')\n",
        "  else:\n",
        "    print(num, end=' ')"
      ],
      "metadata": {
        "colab": {
          "base_uri": "https://localhost:8080/"
        },
        "id": "RSUJXX8T4zDt",
        "outputId": "d9e1a60a-37ac-41ce-82b7-81d8fda42e91"
      },
      "execution_count": null,
      "outputs": [
        {
          "output_type": "stream",
          "name": "stdout",
          "text": [
            "1 2 박수 4 5 박수 7 8 박수 10 11 박수 13 14 박수 16 17 박수 19 20 "
          ]
        }
      ]
    },
    {
      "cell_type": "code",
      "source": [
        "num = 1\n",
        "while num <= 20:\n",
        "  if num % 3 == 0:\n",
        "    print(\"박수\", end=' ')\n",
        "  else:\n",
        "    print(num, end=' ')\n",
        "  num += 1"
      ],
      "metadata": {
        "colab": {
          "base_uri": "https://localhost:8080/"
        },
        "id": "4GWyNxOP5dY0",
        "outputId": "60874314-9c63-491c-8078-07bca5c59b5b"
      },
      "execution_count": null,
      "outputs": [
        {
          "output_type": "stream",
          "name": "stdout",
          "text": [
            "1 2 박수 4 5 박수 7 8 박수 10 11 박수 13 14 박수 16 17 박수 19 20 "
          ]
        }
      ]
    },
    {
      "cell_type": "markdown",
      "source": [
        "6. 팩토리얼 계산하는 코드 작성\n",
        "- 1! = 1,-2!= 2(1),=2, 3!=3(2)(1)=6"
      ],
      "metadata": {
        "id": "CMKoO8X3bwf6"
      }
    },
    {
      "cell_type": "code",
      "source": [
        "i = 5\n",
        "factorial = 1\n",
        "while i >=10:\n",
        "  factorial *= 1\n",
        "  i += 1\n",
        "print(factorial)"
      ],
      "metadata": {
        "colab": {
          "base_uri": "https://localhost:8080/"
        },
        "id": "XXmzIEhRcbTX",
        "outputId": "a98d68a4-fece-4e5a-9354-8c531aa3aeb8"
      },
      "execution_count": 1,
      "outputs": [
        {
          "output_type": "stream",
          "name": "stdout",
          "text": [
            "1\n"
          ]
        }
      ]
    },
    {
      "cell_type": "code",
      "source": [
        "# 계산할 숫자를 입력받습니다.\n",
        "num = int(input(\"팩토리얼을 계산할 숫자를 입력하시오.: \"))\n",
        "\n",
        "# 초기값으로 1을 설정합니다.\n",
        "factorial = 1\n",
        "\n",
        "#팩토리얼 계산을 위한 반복분인 while 입니다.\n",
        "while num >= 1:                # num값이 1보다 크거나 같을때 하위 문장(코드)를 진행\n",
        "  factorial = factorial * num # 현재 num값을 factorial값에 곱해줍니다.\n",
        "  num -= 1                    # num값을 1식 감소시킵니다.\n",
        "\n",
        "print(f'계산된 팩토리얼 값은 {factorial} 입니다.')"
      ],
      "metadata": {
        "colab": {
          "base_uri": "https://localhost:8080/"
        },
        "id": "BuixwPChdBGJ",
        "outputId": "b77a242a-1948-44a1-d068-8e6382f2a1bb"
      },
      "execution_count": 9,
      "outputs": [
        {
          "output_type": "stream",
          "name": "stdout",
          "text": [
            "팩토리얼을 계산할 숫자를 입력하시오.: 5\n",
            "계산된 팩토리얼 값은 120 입니다.\n"
          ]
        }
      ]
    },
    {
      "cell_type": "markdown",
      "source": [
        "7. 구구단 출력해주는 코드작성\n",
        "- 변수: dan\n",
        "- 반복문(1): for문 사용\n",
        "- 반복문(2): while문 사용"
      ],
      "metadata": {
        "id": "oI_c33uBfFrL"
      }
    },
    {
      "cell_type": "code",
      "source": [
        "# for문 사용\n",
        "dan = int(input(\"구구단에서 몇단을 출력할까요: \"))\n",
        "for i in range(1,10):\n",
        "    print(dan, \"x\", i, \"=\", dan * i)"
      ],
      "metadata": {
        "colab": {
          "base_uri": "https://localhost:8080/"
        },
        "id": "atmUACSRfZkc",
        "outputId": "721b72d9-5ac1-456f-a606-a3e6e9afebae"
      },
      "execution_count": 11,
      "outputs": [
        {
          "output_type": "stream",
          "name": "stdout",
          "text": [
            "구구단에서 몇단을 출력할까요: 4\n",
            "4 x 1 = 4\n",
            "4 x 2 = 8\n",
            "4 x 3 = 12\n",
            "4 x 4 = 16\n",
            "4 x 5 = 20\n",
            "4 x 6 = 24\n",
            "4 x 7 = 28\n",
            "4 x 8 = 32\n",
            "4 x 9 = 36\n"
          ]
        }
      ]
    },
    {
      "cell_type": "code",
      "source": [
        "# while문 사용\n",
        "dan = int(input(\"구구단에서 몇단을 출력할래?: \"))\n",
        "i = 1\n",
        "while i <= 9:\n",
        "  print(dan, \"x\", i, \"=\", dan * i)\n",
        "  i += 1"
      ],
      "metadata": {
        "colab": {
          "base_uri": "https://localhost:8080/"
        },
        "id": "4ms3o3-tgFsU",
        "outputId": "d0decac9-785d-4896-c63d-0d8f0192eaf9"
      },
      "execution_count": 12,
      "outputs": [
        {
          "output_type": "stream",
          "name": "stdout",
          "text": [
            "구구단에서 몇단을 출력할래?: 4\n",
            "4 x 1 = 4\n",
            "4 x 2 = 8\n",
            "4 x 3 = 12\n",
            "4 x 4 = 16\n",
            "4 x 5 = 20\n",
            "4 x 6 = 24\n",
            "4 x 7 = 28\n",
            "4 x 8 = 32\n",
            "4 x 9 = 36\n"
          ]
        }
      ]
    }
  ]
}